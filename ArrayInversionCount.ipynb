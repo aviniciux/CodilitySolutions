{
 "cells": [
  {
   "cell_type": "markdown",
   "metadata": {},
   "source": [
    "# Array Inversion Count"
   ]
  },
  {
   "cell_type": "raw",
   "metadata": {},
   "source": [
    "An array A consisting of N integers is given. An inversion is a pair of indexes (P, Q) such that P < Q and A[Q] < A[P].\n",
    "\n",
    "Write a function:\n",
    "\n",
    "    int solution(int A[], int N);\n",
    "    \n",
    "that computes the number of inversions in A, or returns −1 if it exceeds 1,000,000,000.\n",
    "\n",
    "For example, in the following array:\n",
    "\n",
    " A[0] = -1 A[1] = 6 A[2] = 3\n",
    " A[3] =  4 A[4] = 7 A[5] = 4\n",
    "\n",
    "there are four inversions:\n",
    "   (1,2)  (1,3)  (1,5)  (4,5)\n",
    "\n",
    "so the function should return 4.\n",
    "\n",
    "Write an efficient algorithm for the following assumptions:\n",
    "\n",
    "    * N is an integer within the range [0..100,000];\n",
    "    * each element of array A is an integer within the range [−2,147,483,648..2,147,483,647]."
   ]
  },
  {
   "cell_type": "code",
   "execution_count": 3,
   "metadata": {},
   "outputs": [
    {
     "name": "stdout",
     "output_type": "stream",
     "text": [
      "Number of Inversions = 4"
     ]
    }
   ],
   "source": [
    "#include <stdio.h>\n",
    "#include <stdlib.h>\n",
    "\n",
    "int Solution(int N, int A[])\n",
    "{\n",
    "    unsigned int inversion=0;\n",
    "    int i, j;\n",
    "    for(i=1;i<N;i++){\n",
    "        for(j=0;j<i;j++){\n",
    "            if(A[i]<A[j])\n",
    "                inversion++;\n",
    "        }\n",
    "    }    \n",
    "    return inversion>1000000000?-1:inversion;\n",
    "}\n",
    "\n",
    "int main(void) {\n",
    "    int A[6] = {-1,6,3,4,7,4}, NInv, N = 6;\n",
    "    NInv = Solution(N,A);\n",
    "    printf(\"Number of Inversions = %d\" ,NInv);\n",
    "    return 0;\n",
    "}"
   ]
  }
 ],
 "metadata": {
  "kernelspec": {
   "display_name": "C",
   "language": "c",
   "name": "c"
  },
  "language_info": {
   "file_extension": ".c",
   "mimetype": "text/plain",
   "name": "c"
  }
 },
 "nbformat": 4,
 "nbformat_minor": 2
}
